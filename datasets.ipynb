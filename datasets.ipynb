{
 "cells": [
  {
   "cell_type": "markdown",
   "metadata": {},
   "source": [
    "# Datasets Preparation"
   ]
  },
  {
   "cell_type": "markdown",
   "metadata": {},
   "source": [
    "In this notebook we prepare a set of machine learning data sets downloaded from the UCI Machine Learning repository. We have downloaded the datasets into the `data/raw` directory and the only transformation made was to change the columns separator to use a simple colon when required. Any other preprocessing is made in this notebook to ensure reproductibility. Here we basically perform the following transforms:\n",
    "\n",
    "* Remove categorical columns.\n",
    "* Remove nan entries.\n",
    "* Normalize each column using min-max feature scaling.\n",
    "* Change the column order so the target column is the last one.\n",
    "\n",
    "**Disclaimer**: The use of this collection of datasets is intended to study the performance of neural networks and its variants, therefore, we avoid datasets where the features are mostly non-numerical and that is why we remove categorical columns in the few cases where they are present instead of using any specific transformation."
   ]
  },
  {
   "cell_type": "code",
   "execution_count": 29,
   "metadata": {},
   "outputs": [],
   "source": [
    "import numpy as np\n",
    "import matplotlib.pyplot as plt\n",
    "import pandas as pd\n",
    "import json"
   ]
  },
  {
   "cell_type": "markdown",
   "metadata": {},
   "source": [
    "## Regression dataset list"
   ]
  },
  {
   "cell_type": "code",
   "execution_count": 30,
   "metadata": {},
   "outputs": [],
   "source": [
    "meta = []"
   ]
  },
  {
   "cell_type": "markdown",
   "metadata": {},
   "source": [
    "### 1. Facebook Metrics"
   ]
  },
  {
   "cell_type": "code",
   "execution_count": 31,
   "metadata": {},
   "outputs": [],
   "source": [
    "meta.append({\n",
    "    'id': 'facebook_metrics.csv',\n",
    "    'name': 'Facebook metrics',\n",
    "    'type': 'Regression',\n",
    "    'ref': 'https://archive.ics.uci.edu/ml/datasets/Facebook+metrics',\n",
    "    'columns': ['page_likes','type','category','post' 'month','post' 'weekday','post_hour','paid',\n",
    "                'life_time', 'life_impression','life_users','life_consumers','life_consumptions',\n",
    "                'impressions_like','life_like','life_page_post','comment','like','share','interactions'],\n",
    "    'target': 'interactions',\n",
    "    'transforms': [],\n",
    "    'drop': ['type'],\n",
    "    'comment': ''})"
   ]
  },
  {
   "cell_type": "markdown",
   "metadata": {},
   "source": [
    "### 2. Forest Fires"
   ]
  },
  {
   "cell_type": "code",
   "execution_count": 32,
   "metadata": {},
   "outputs": [],
   "source": [
    "def log_transform(x):\n",
    "    return np.log(x + 1)\n",
    "\n",
    "meta.append({\n",
    "    'id': 'forest_fires.csv',\n",
    "    'name': 'Forest fires',\n",
    "    'type': 'Regression',\n",
    "    'ref': 'https://archive.ics.uci.edu/ml/datasets/Forest+Fires',\n",
    "    'columns': ['x','y','month','day','FFMC','DMC','DC','ISI','temp','RH','wind','rain','area'],\n",
    "    'target': 'area',\n",
    "    'transforms': [{\n",
    "        'attr': 'area',\n",
    "        'op': np.vectorize(log_transform)\n",
    "    }],\n",
    "    'drop': ['month','day'],\n",
    "    'comment': 'Target attr. is log-transformed according to original paper.'})"
   ]
  },
  {
   "cell_type": "markdown",
   "metadata": {},
   "source": [
    "### 3. Aquatic Toxicity"
   ]
  },
  {
   "cell_type": "code",
   "execution_count": 33,
   "metadata": {},
   "outputs": [],
   "source": [
    "meta.append({\n",
    "    'id': 'aquatic_toxicity.csv',\n",
    "    'name': 'Aquatic toxicity',\n",
    "    'type': 'Regression',\n",
    "    'ref': 'https://archive.ics.uci.edu/ml/datasets/QSAR+aquatic+toxicity',\n",
    "    'columns': ['TPSA','SAacc','H-050','MLOGP','RDCHI','GATS1p','nN','C-040', 'response'],\n",
    "    'target': 'response',\n",
    "    'transforms': [],\n",
    "    'drop': [],\n",
    "    'comment': ''})"
   ]
  },
  {
   "cell_type": "markdown",
   "metadata": {},
   "source": [
    "### 4. Fish Toxicity"
   ]
  },
  {
   "cell_type": "code",
   "execution_count": 34,
   "metadata": {},
   "outputs": [],
   "source": [
    "meta.append({\n",
    "    'id': 'fish_toxicity.csv',\n",
    "    'name': 'Fish toxicity',\n",
    "    'type': 'Regression',\n",
    "    'ref': 'https://archive.ics.uci.edu/ml/datasets/QSAR+fish+toxicity',\n",
    "    'columns': ['CIC0','SM1_Dz','GATS1i','NdsCH','NdssC','MLOGP', 'response'],\n",
    "    'target': 'response',\n",
    "    'transforms': [],\n",
    "    'drop': [],\n",
    "    'comment': 'Target attr. is in the last column.'})"
   ]
  },
  {
   "cell_type": "markdown",
   "metadata": {},
   "source": [
    "### 5. Airfoil noise"
   ]
  },
  {
   "cell_type": "code",
   "execution_count": 35,
   "metadata": {},
   "outputs": [],
   "source": [
    "meta.append({\n",
    "    'id': 'airfoil_noise.csv',\n",
    "    'name': 'Airfoil noise',\n",
    "    'type': 'Regression',\n",
    "    'ref': 'https://archive.ics.uci.edu/ml/datasets/Airfoil+Self-Noise',\n",
    "    'columns':['frequency', 'angle','chord', 'velocity', 'suction', 'decibels'],\n",
    "    'target': 'decibels',\n",
    "    'transforms': [],\n",
    "    'drop': [],\n",
    "    'comment': 'Target attr. is in the last column.'})"
   ]
  },
  {
   "cell_type": "markdown",
   "metadata": {},
   "source": [
    "### 6. Concrete Compressive Strength"
   ]
  },
  {
   "cell_type": "code",
   "execution_count": 36,
   "metadata": {},
   "outputs": [],
   "source": [
    "meta.append({\n",
    "    'id': 'concrete.csv',\n",
    "    'name': 'Concrete strength',\n",
    "    'type': 'Regression',\n",
    "    'ref': 'https://archive.ics.uci.edu/ml/datasets/concrete+compressive+strength',\n",
    "    'columns': ['cement', 'slag', 'ash', 'water', 'superplasticizer', 'coarse' , 'fine', 'age', 'strength'],\n",
    "    'target': 'strength',\n",
    "    'transforms': [],\n",
    "    'drop': [],\n",
    "    'comment': 'Target attr. is in the last column.'})"
   ]
  },
  {
   "cell_type": "markdown",
   "metadata": {},
   "source": [
    "## Preprocessing"
   ]
  },
  {
   "cell_type": "code",
   "execution_count": 37,
   "metadata": {},
   "outputs": [],
   "source": [
    "df_summary = pd.DataFrame()\n",
    "\n",
    "for ds in meta:\n",
    "    df = pd.read_csv('data/raw/' + ds['id'], header=0, na_values=[\"?\"], names=ds['columns']).dropna()\n",
    "    columns = [column for column in ds['columns'] if column not in ds['drop']]\n",
    "    \n",
    "    for transform in ds['transforms']:\n",
    "        attr = transform['attr']\n",
    "        op = transform['op']\n",
    "        \n",
    "        df[attr] = op(df[attr])\n",
    "        transform['op'] = []\n",
    "    \n",
    "    for column in columns:\n",
    "        df[column] = (df[column] - df[column].min()) / (df[column].max() - df[column].min())\n",
    "    \n",
    "    columns = [column for column in columns if column != ds['target']] + [ds['target']]\n",
    "    df = df[columns]\n",
    "    df.to_csv('data/prep/' + ds['id'], header=True, index=False)\n",
    "    \n",
    "    n, d = df.shape\n",
    "    df_summary.loc[(ds['name'], 'Type')] = ds['type']\n",
    "    df_summary.loc[(ds['name'], 'No. Examples')] = n\n",
    "    df_summary.loc[(ds['name'], 'No. Features')] = d - 1"
   ]
  },
  {
   "cell_type": "code",
   "execution_count": 38,
   "metadata": {},
   "outputs": [],
   "source": [
    "json.dump(meta, open( \"data/prep/list.json\", 'w'))"
   ]
  },
  {
   "cell_type": "markdown",
   "metadata": {},
   "source": [
    "## Summary"
   ]
  },
  {
   "cell_type": "code",
   "execution_count": 39,
   "metadata": {},
   "outputs": [],
   "source": [
    "df_summary.to_latex('results/tables/datasets.tex', label='tab:datasets', \n",
    "                    caption='List of benchmark data sets.')"
   ]
  }
 ],
 "metadata": {
  "kernelspec": {
   "display_name": "Python 3",
   "language": "python",
   "name": "python3"
  },
  "language_info": {
   "codemirror_mode": {
    "name": "ipython",
    "version": 3
   },
   "file_extension": ".py",
   "mimetype": "text/x-python",
   "name": "python",
   "nbconvert_exporter": "python",
   "pygments_lexer": "ipython3",
   "version": "3.8.10"
  }
 },
 "nbformat": 4,
 "nbformat_minor": 4
}
